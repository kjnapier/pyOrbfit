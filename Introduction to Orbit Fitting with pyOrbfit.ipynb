{
 "cells": [
  {
   "cell_type": "markdown",
   "metadata": {},
   "source": [
    "# Introduction to Orbit Fitting with pyOrbfit"
   ]
  },
  {
   "cell_type": "markdown",
   "metadata": {},
   "source": [
    "This tutorial introduces the pyOrbfit module, a set of python wrappers for orbit-fitting code written in C by Gary Bernstein. The algorithm is optimized for fitting distant solar system objects and is described in Bernstein and Khushalani, <a href=\"http://iopscience.iop.org/article/10.1086/316868;jsessionid=34862896C348AFD2F7994AC3870D30FD.c2.iopscience.cld.iop.org\">\"Orbit Fitting and Uncertainty for Kuiper Belt Objects\", AJ 120, 3323 (2000)</a>. This code is an integral part of our TNO-finding toolkit. With it you can perform the following functions:\n",
    "  * Fit a set of observations (RA, DEC, date, observatory code) to determine the orbital elements and goodness of fit.\n",
    "  * Predict the position and error ellipse of an object at past or future dates.\n",
    " "
   ]
  },
  {
   "cell_type": "markdown",
   "metadata": {},
   "source": [
    "## Prerequisites:\n",
    "\n",
    "* A working installation of Python 2.7. The code uses standard packages like numpy and pandas that should be part of most distributions.\n",
    "* Install the pyephem package if you don't already have it, using your favorite package manager such as pip or easy_install, e.g.   <tt>pip install ephem</tt>"
   ]
  },
  {
   "cell_type": "markdown",
   "metadata": {},
   "source": [
    "## Obtaining and installing the code:\n",
    "\n",
    "The code is on github at <a href=\"https://github.com/dwgerdes/pyOrbfit\">https://github.com/dwgerdes/pyOrbfit</a>.\n",
    "\n",
    "1) Download a copy and place it in its own directory on your machine. I use ~/pyOrbfit. \n",
    "\n",
    "2) Move to this directory and compile the code:\n",
    "   * <tt>python setup.py build</tt>\n",
    "   \n",
    "This compiles the C code. You may see some non-fatal warnings about unused variables, etc. but these can be ignored.\n",
    "   \n",
    "3) When compilation is finished, look in the <tt>build</tt> subdirectory. There you will see a directory with a machine-dependent name--on my Mac it's lib.macosx-10.8-x86_64-2.7/. (Check the timestamp on the directory to make sure it was just created in this build.) In this directory you'll find a file called\n",
    "\n",
    "<tt>_pyOrbfit.so</tt>.\n",
    "\n",
    "This is a shared library containing the compiled code. Copy this file to the main pyOrbfit directory. Do not leave off the leading underscore! "
   ]
  },
  {
   "cell_type": "markdown",
   "metadata": {},
   "source": [
    "4) The code needs two auxiliary files, both of which are located in the main directory:\n",
    "\n",
    "   * <tt>observatories.dat</tt> contains a list of observatory codes and their geographic information. It's a small subset of the full list available from the Minor Planet Center at http://www.minorplanetcenter.net/iau/lists/ObsCodesF.html. Newer observatory codes contain letters, for example \"Cerro Tololo / DECam\" is W84. pyOrbfit is currently able to handle only integer codes, so we use the more generic \"Cerro Tololo Observatory\" code 807. Fixing this is an exercise for the reader. (Observatory codes enable us to correct for parallex due to our observing location on earth, or with space-based telescopes. This is unimportant for TNOs but it does matter for main belt asteroids and NEOs. The Minor Planet Center requires all observations to be submitted with a recognized observatory code. We replace the 807s with W84s when we report our observations with DECam.)\n",
    "   \n",
    "   * <tt>binEphem.423</tt> This is a compiled version of the JPL DE423 <a href=\"http://ssd.jpl.nasa.gov/?ephemerides\">ephemeris</a>. It contains precision tabulated positions of major (and many minor) solar system bodies over a range of dates +/- several centuries from now. It's used to compute perturbations to TNOs from Neptune and the other giant planets. The compiled version available here *should* work on most machines (we've used it successfully on Mac and Linux), but if you encounter problems on your machine you may need to rebuild it using the tools available on the JPL web site.\n",
    "\n",
    "5) Define some environmental variables:\n",
    "\n",
    "  * <tt>ORBIT_OBSERVATORIES</tt> should point to the location of <tt>observatories.dat</tt>\n",
    "  * <tt>ORBIT_EPHEMERIS</tt> should point to <tt>binEphem.423</tt>\n",
    "  * Add the main pyOrbfit directory to your PYTHONPATH.\n",
    "  \n",
    "  Depending on your machine, you may do this by adding the following lines to your <tt>.bashrc</tt> or <tt>.bash_profile</tt> file:\n",
    " \n",
    "  export PYORBFIT=\"/home/yourname/pyOrbfit\"\n",
    "  \n",
    "  export ORBIT_OBSERVATORIES=$\\$$PYORBFIT/observatories.dat\n",
    "  \n",
    "  export ORBIT_EPHEMERIS=$\\$$PYORBFIT/binEphem.423\n",
    "  \n",
    "  export PYTHONPATH=$\\$$PYTHONPATH:$\\$$PYORBFIT\n",
    "  \n",
    " Someone who is better-versed in distutils than I am could probably devise a setup.py file that would make all this happen automatically when the package is installed. "
   ]
  },
  {
   "cell_type": "markdown",
   "metadata": {},
   "source": [
    "## Let's Try it Out!\n",
    "\n",
    "The code is distributed with an example file <tt>2013_TV158.mpc</tt>, which contains observations of the scattered disk object <a href=\"http://www.minorplanetcenter.net/db_search/show_object?utf8=%E2%9C%93&object_id=2013+TV158\">2013 TV158</a> by DECam, Pan-STARRS, and SDSS. They are in <a href=\"http://www.minorplanetcenter.net/iau/info/OpticalObs.html\">Minor Planet Center format</a>."
   ]
  },
  {
   "cell_type": "code",
   "execution_count": 16,
   "metadata": {
    "collapsed": true
   },
   "outputs": [],
   "source": [
    "# import the package:\n",
    "from Orbit import Orbit\n",
    "import ephem \n",
    "import numpy as np"
   ]
  },
  {
   "cell_type": "code",
   "execution_count": 7,
   "metadata": {
    "collapsed": false
   },
   "outputs": [],
   "source": [
    "o = Orbit(file='2013_TV158.mpc')"
   ]
  },
  {
   "cell_type": "code",
   "execution_count": 8,
   "metadata": {
    "collapsed": false
   },
   "outputs": [
    {
     "name": "stdout",
     "output_type": "stream",
     "text": [
      "{'a': 111.22460233579679, 'lan': 181.0744263335385, 'e': 0.6720959654675543, 'i': 31.142680538860287, 'top': 2459777.3149905493, 'aop': 232.09156280568914}\n",
      "{'a': 0.0078527132767012304, 'lan': 0.00011397565932540869, 'e': 2.1797880078135241e-05, 'i': 8.6080888604753787e-05, 'top': 0.24862051383178221, 'aop': 0.0015573146902426677}\n"
     ]
    }
   ],
   "source": [
    "elements, errs = o.get_elements()\n",
    "print elements\n",
    "print errs"
   ]
  },
  {
   "cell_type": "markdown",
   "metadata": {},
   "source": [
    "If the above lines worked, you should see the orbital elements and errors for this object:\n",
    "\n",
    "\n",
    "{'a': 111.22460233579679, 'lan': 181.0744263335385, 'e': 0.6720959654675543, 'i': 31.142680538860287, 'top': 2459777.3149905493, 'aop': 232.09156280568914}\n",
    "\n",
    "{'a': 0.0078527132767012304, 'lan': 0.00011397565932540869, 'e': 2.1797880078135241e-05, 'i': 8.6080888604753787e-05, 'top': 0.24862051383178221, 'aop': 0.0015573146902426677}\n",
    "\n",
    "The get_elements() method returns two dictionaries, one for the orbital elements and one for their corresponding errors. So this object has a semi-major axis of 111.2246 AU, with an uncertainty of 0.0078 AU. This is a very well measured object, due to its recovery in SDSS observations from over a decade ago. The orbital element \"top\" is the \"time of perihelion\" and is given as a Julian date."
   ]
  },
  {
   "cell_type": "markdown",
   "metadata": {},
   "source": [
    "### Predicting the position:\n",
    "\n",
    "Where will this object be during the next DES season?"
   ]
  },
  {
   "cell_type": "code",
   "execution_count": 19,
   "metadata": {
    "collapsed": false
   },
   "outputs": [],
   "source": [
    "date_start = ephem.date('2016/08/20')\n",
    "pos_pred = o.predict_pos(date_start)"
   ]
  },
  {
   "cell_type": "code",
   "execution_count": 20,
   "metadata": {
    "collapsed": false
   },
   "outputs": [
    {
     "name": "stdout",
     "output_type": "stream",
     "text": [
      "{'dec': -0.07472841993306581, 'opp': 109.40747982653748, 'elong': 108.26099880688548, 'err': {'a': 0.1202744604652362, 'PA': 93.542246880712398, 'b': 0.039854163035020249}, 'ra': 0.7305863501167895}\n"
     ]
    }
   ],
   "source": [
    "print pos_pred"
   ]
  },
  {
   "cell_type": "markdown",
   "metadata": {},
   "source": [
    "This returns a dictionary containing the predicted RA and DEC, as well as the opposition angle and solar elongation. The dictionary element 'err' is itself a dictionary with three elements: the major and minor axes of the error ellipse, and the position angle, expressed as degrees from north.\n",
    "\n",
    "Units can be source of confusion.\n",
    "  * Errors on predicted positions are in arc-seconds.\n",
    "  * Positions themselve (RA, DEC) are in <b>radians</b>. To convert to something more familiar, you can use pyephem's conversion routines:"
   ]
  },
  {
   "cell_type": "code",
   "execution_count": 21,
   "metadata": {
    "collapsed": false
   },
   "outputs": [
    {
     "name": "stdout",
     "output_type": "stream",
     "text": [
      "2:47:26.28 -4:16:53.8\n",
      "41:51:34.3 -4:16:53.8\n",
      "41.8595144316 -4.28162307185\n"
     ]
    }
   ],
   "source": [
    "print ephem.hours(pos_pred['ra']), ephem.degrees(pos_pred['dec'])\n",
    "print ephem.degrees(pos_pred['ra']), ephem.degrees(pos_pred['dec'])\n",
    "print np.degrees(pos_pred['ra']), np.degrees(pos_pred['dec'])"
   ]
  },
  {
   "cell_type": "markdown",
   "metadata": {},
   "source": [
    "Note from above that the positional uncertainty for this object is less than an arc-second. "
   ]
  },
  {
   "cell_type": "markdown",
   "metadata": {},
   "source": [
    "The MPC observation format is inconvenient. We often want to fit observations in a more human-readable format, for example the .csv files generated by the <tt>tnofinder</tt> code. pyOrbfit allows you to pass the observations as lists. For example, the file <tt>example_fake.csv</tt> contains observations of a fake TNO reconstructed by our linker in Y2 data. Let's define a utility function:"
   ]
  },
  {
   "cell_type": "code",
   "execution_count": 22,
   "metadata": {
    "collapsed": true
   },
   "outputs": [],
   "source": [
    "def fit_orbit(df_obs):\n",
    "    df_obs = df_obs.ix[['#' not in row['date'] for ind, row in df_obs.iterrows()]]   # filter comment lines\n",
    "    nobs = len(df_obs)\n",
    "    ralist = [ephem.hours(r) for r in df_obs['ra'].values]\n",
    "    declist = [ephem.degrees(d) for d in df_obs['dec'].values]\n",
    "    datelist = [ephem.date(d) for d in df_obs['date'].values]\n",
    "    orbit = Orbit(dates=datelist, ra=ralist, dec=declist, obscode=np.ones(nobs, dtype=int)*807, err=0.15)\n",
    "    return orbit"
   ]
  },
  {
   "cell_type": "markdown",
   "metadata": {},
   "source": [
    "Now read in the file and fit:"
   ]
  },
  {
   "cell_type": "code",
   "execution_count": 24,
   "metadata": {
    "collapsed": false
   },
   "outputs": [],
   "source": [
    "import pandas as pd\n",
    "df = pd.read_csv('example_fake.csv')"
   ]
  },
  {
   "cell_type": "code",
   "execution_count": 25,
   "metadata": {
    "collapsed": true
   },
   "outputs": [],
   "source": [
    "orb = fit_orbit(df)"
   ]
  },
  {
   "cell_type": "code",
   "execution_count": 26,
   "metadata": {
    "collapsed": true
   },
   "outputs": [],
   "source": [
    "elements, errs = orb.get_elements()"
   ]
  },
  {
   "cell_type": "code",
   "execution_count": 27,
   "metadata": {
    "collapsed": false
   },
   "outputs": [
    {
     "name": "stdout",
     "output_type": "stream",
     "text": [
      "{'a': 40.608486321926165, 'lan': 4.302665290341063, 'e': 0.23178926553311102, 'i': 33.03042800311288, 'top': 2473868.675241164, 'aop': 93.54729027856236}\n"
     ]
    }
   ],
   "source": [
    "print elements"
   ]
  },
  {
   "cell_type": "code",
   "execution_count": 28,
   "metadata": {
    "collapsed": false
   },
   "outputs": [
    {
     "name": "stdout",
     "output_type": "stream",
     "text": [
      "{'a': 18.58315714983171, 'lan': 0.14371893656525056, 'e': 0.81558563689616881, 'i': 1.7253904772899273, 'top': 17030.563664356956, 'aop': 19.380731360404635}\n"
     ]
    }
   ],
   "source": [
    "print errs"
   ]
  },
  {
   "cell_type": "code",
   "execution_count": 29,
   "metadata": {
    "collapsed": false
   },
   "outputs": [
    {
     "name": "stdout",
     "output_type": "stream",
     "text": [
      "0:31:39.37 6:43:10.5 1107.7020088\n"
     ]
    }
   ],
   "source": [
    "pos_pred = orb.predict_pos(date_start)\n",
    "print ephem.hours(pos_pred['ra']), ephem.degrees(pos_pred['dec']), pos_pred['err']['a']"
   ]
  },
  {
   "cell_type": "markdown",
   "metadata": {},
   "source": [
    "At the start of Y4, this \"TNO\" would have a large 1107-arcsecond positional uncertainty. This is because the discovery arc length in Y2 was only 3 weeks long. This is typical of objects discovered in the wide survey. Efficiently connecting candidates discovered at one opposition with observations from prior or future oppositions is a problem that needs more work."
   ]
  },
  {
   "cell_type": "code",
   "execution_count": null,
   "metadata": {
    "collapsed": true
   },
   "outputs": [],
   "source": []
  }
 ],
 "metadata": {
  "kernelspec": {
   "display_name": "Python 2",
   "language": "python",
   "name": "python2"
  },
  "language_info": {
   "codemirror_mode": {
    "name": "ipython",
    "version": 2
   },
   "file_extension": ".py",
   "mimetype": "text/x-python",
   "name": "python",
   "nbconvert_exporter": "python",
   "pygments_lexer": "ipython2",
   "version": "2.7.11"
  }
 },
 "nbformat": 4,
 "nbformat_minor": 0
}
